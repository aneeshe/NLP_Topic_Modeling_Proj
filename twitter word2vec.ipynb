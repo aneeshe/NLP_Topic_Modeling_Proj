{
 "cells": [
  {
   "cell_type": "code",
   "execution_count": 1,
   "id": "advance-divide",
   "metadata": {},
   "outputs": [],
   "source": [
    "from gensim.models import Word2Vec\n",
    "from gensim.models import KeyedVectors\n",
    "from nltk.tokenize import word_tokenize \n",
    "from gensim.utils import tokenize\n",
    "from nltk.tokenize import sent_tokenize\n",
    "import pandas as pd\n",
    "import nltk\n",
    "from scipy.spatial import distance"
   ]
  },
  {
   "cell_type": "code",
   "execution_count": 2,
   "id": "intelligent-blood",
   "metadata": {},
   "outputs": [
    {
     "name": "stderr",
     "output_type": "stream",
     "text": [
      "[nltk_data] Downloading package averaged_perceptron_tagger to\n",
      "[nltk_data]     /home/jovyan/nltk_data...\n",
      "[nltk_data]   Package averaged_perceptron_tagger is already up-to-\n",
      "[nltk_data]       date!\n",
      "[nltk_data] Downloading package stopwords to /home/jovyan/nltk_data...\n",
      "[nltk_data]   Package stopwords is already up-to-date!\n",
      "[nltk_data] Downloading package punkt to /home/jovyan/nltk_data...\n",
      "[nltk_data]   Package punkt is already up-to-date!\n"
     ]
    },
    {
     "data": {
      "text/plain": [
       "True"
      ]
     },
     "execution_count": 2,
     "metadata": {},
     "output_type": "execute_result"
    }
   ],
   "source": [
    "import numpy as np\n",
    "import pandas as pd\n",
    "import nltk\n",
    "import re\n",
    "import os\n",
    "import time\n",
    "import codecs\n",
    "import csv\n",
    "from sklearn import feature_extraction\n",
    "import collections \n",
    "from nltk.corpus import stopwords \n",
    "from nltk.tokenize import word_tokenize \n",
    "from nltk.stem.snowball import SnowballStemmer\n",
    "\n",
    "from sklearn.feature_extraction.text import TfidfVectorizer\n",
    "from sklearn.metrics.pairwise import cosine_similarity\n",
    "from sklearn.cluster import KMeans\n",
    "from sklearn.manifold import MDS\n",
    "\n",
    "from scipy.spatial import distance\n",
    "from sklearn.manifold import TSNE\n",
    "import matplotlib.pyplot as plt\n",
    "import nltk.stem as stemmer\n",
    "\n",
    "nltk.download('averaged_perceptron_tagger')\n",
    "nltk.download('stopwords')\n",
    "nltk.download('punkt')\n"
   ]
  },
  {
   "cell_type": "code",
   "execution_count": 3,
   "id": "coated-library",
   "metadata": {},
   "outputs": [],
   "source": [
    "def rem_stop_words(example_sent):\n",
    "    \n",
    "    example_sent = str(example_sent)\n",
    "    stop_words = set(stopwords.words('english')) \n",
    "\n",
    "    word_tokens = word_tokenize(example_sent) \n",
    "  \n",
    "  \n",
    "    filtered_sentence = [] \n",
    "  \n",
    "    for w in word_tokens: \n",
    "        if w not in stop_words: \n",
    "            filtered_sentence.append(w) \n",
    "  \n",
    "    return(filtered_sentence) \n",
    "\n",
    "# Take in a string and remove punctuation, repeat lines, etc.\n",
    "# RETURN: string (cleaned up)\n",
    "def cleaner(text):\n",
    "    \n",
    "    text = re.sub('NOTE- TERMS IN BRACKETS HAVE BEEN EDITED TO PROTECT CONFIDENTIALITY','', text)\n",
    "    text = re.sub('<BR/>',' ', text)\n",
    "    text = text.lower()\n",
    "    text = re.sub('[****]','',text)\n",
    "    \n",
    "    text = re.sub('[/%#;:!,.<>\\'?\\\"()-\\[\\]]',' ',text)\n",
    "    text = re.sub('[0-9*]','',text)\n",
    "\n",
    "    text = re.sub(r'(?:^| )\\w(?:$| )', ' ', text)\n",
    "    \n",
    "    a = nltk.pos_tag(tokenize_only(text))\n",
    "    a = pd.DataFrame(a)\n",
    "    a = a[a[1] == 'NN']\n",
    "    text = ' '.join(a[0])\n",
    "    \n",
    "    return(text)\n",
    "def to_lower(text):\n",
    "    text = re.sub(r'^https?:\\/\\/.*[\\r\\n]*', '', text, flags=re.MULTILINE)\n",
    "    re.sub(r\"\\S*https?:\\S*\", \"\", text)\n",
    "    text = text.lower()\n",
    "    \n",
    "    return(text)\n",
    "\n",
    "def tokenize_only(text):\n",
    "    # first tokenize by sentence, then by word to ensure that punctuation is caught as it's own token\n",
    "    tokens = [word.lower() for sent in nltk.sent_tokenize(text) for word in nltk.word_tokenize(sent)]\n",
    "    filtered_tokens = []\n",
    "    # filter out any tokens not containing letters (e.g., numeric tokens, raw punctuation)\n",
    "    for token in tokens:\n",
    "        if re.search('[a-zA-Z]', token):\n",
    "            if(stemmer.stem(token) not in rem_words):\n",
    "                filtered_tokens.append(token)\n",
    "    return filtered_tokens\n",
    "\n",
    "def tokenize_and_stem(text):\n",
    "    \n",
    "    tokens = [word for sent in nltk.sent_tokenize(text) for word in nltk.word_tokenize(sent)]\n",
    "    filtered_tokens = []\n",
    "    # filter out any tokens not containing letters (e.g., numeric tokens, raw punctuation)\n",
    "    for token in tokens:\n",
    "        if re.search('[a-zA-Z]', token):\n",
    "            filtered_tokens.append(token)\n",
    "    stems = [stemmer.stem(t) for t in filtered_tokens]\n",
    "    stems = [e for e in stems if e not in rem_words ]\n",
    "    return stems\n",
    "stemmer = SnowballStemmer(\"english\")"
   ]
  },
  {
   "cell_type": "code",
   "execution_count": 4,
   "id": "regular-recall",
   "metadata": {},
   "outputs": [],
   "source": [
    "rem_words_1 = \"survey,nurse,cited,am,pm,resident,residents,she,not,review,facility,state,have,year,employee,reported,management,\"\n",
    "rem_words_2 = \"he,staff,interview,care,date,reveal,record,be,month,document,physician,lpn,na,code,description,previous,hospital,m,\"\n",
    "rem_words_3 = \"observation,stated,assessment,don,mds,gna,cna,pa,cm,medical,names,order,status,immediately,redacted,condition,plan,\"\n",
    "rem_words_4 = \"administrative,note,time,indicated,incident,redirected,director,uses,include,inr,rn,investigation,asked,following,\"\n",
    "rem_words_5 = \"provided,alleged,failed,identified,said,ei,ri,parking,assist,every,get,\"\n",
    "rem_words_6 = \"room,left,mm,hg,adl,xl,day,mg,mar,knows,prn,look,ard,give,ml,also,ted,made,non,bims,pasrr,\" # 7/13 update\n",
    "num_alphas  = \"one,two,three,four,five,six,seven,eight,nine,ten,\"\n",
    "#rem_words = rem_words_1 + rem_words_2 + rem_words_3 + rem_words_4 + rem_words_5 + rem_words_6 + num_alphas\n",
    "rem_words = num_alphas\n",
    "rem_words = rem_words.split(',')\n",
    "rem_words = [stemmer.stem(t) for t in rem_words]"
   ]
  },
  {
   "cell_type": "code",
   "execution_count": 5,
   "id": "acting-inquiry",
   "metadata": {},
   "outputs": [
    {
     "name": "stderr",
     "output_type": "stream",
     "text": [
      "/opt/conda/lib/python3.7/site-packages/IPython/core/interactiveshell.py:3444: DtypeWarning: Columns (34) have mixed types.Specify dtype option on import or set low_memory=False.\n",
      "  exec(code_obj, self.user_global_ns, self.user_ns)\n"
     ]
    }
   ],
   "source": [
    "feb20_dataset = pd.read_csv(\"February20_Twitter_Data.csv\")\n",
    "jul20_dataset = pd.read_csv(\"July20_Twitter_Data.csv\")\n",
    "sep21_dataset = pd.read_csv(\"September21_Twitter_Data.csv\")"
   ]
  },
  {
   "cell_type": "code",
   "execution_count": 6,
   "id": "binding-barrel",
   "metadata": {
    "scrolled": true
   },
   "outputs": [
    {
     "data": {
      "text/html": [
       "<div>\n",
       "<style scoped>\n",
       "    .dataframe tbody tr th:only-of-type {\n",
       "        vertical-align: middle;\n",
       "    }\n",
       "\n",
       "    .dataframe tbody tr th {\n",
       "        vertical-align: top;\n",
       "    }\n",
       "\n",
       "    .dataframe thead th {\n",
       "        text-align: right;\n",
       "    }\n",
       "</style>\n",
       "<table border=\"1\" class=\"dataframe\">\n",
       "  <thead>\n",
       "    <tr style=\"text-align: right;\">\n",
       "      <th></th>\n",
       "      <th>created_at</th>\n",
       "      <th>id</th>\n",
       "      <th>id_str</th>\n",
       "      <th>full_text</th>\n",
       "      <th>source</th>\n",
       "      <th>truncated</th>\n",
       "      <th>in_reply_to_status_id</th>\n",
       "      <th>in_reply_to_status_id_str</th>\n",
       "      <th>in_reply_to_user_id</th>\n",
       "      <th>in_reply_to_user_id_str</th>\n",
       "      <th>...</th>\n",
       "      <th>matching_rules</th>\n",
       "      <th>current_user_retweet</th>\n",
       "      <th>scopes</th>\n",
       "      <th>withheld_copyright</th>\n",
       "      <th>withheld_in_countries</th>\n",
       "      <th>withheld_scope</th>\n",
       "      <th>geo</th>\n",
       "      <th>contributors</th>\n",
       "      <th>display_text_range</th>\n",
       "      <th>quoted_status_permalink</th>\n",
       "    </tr>\n",
       "  </thead>\n",
       "  <tbody>\n",
       "    <tr>\n",
       "      <th>0</th>\n",
       "      <td>Sat Feb 01 00:15:16 +0000 2020</td>\n",
       "      <td>1.223400e+18</td>\n",
       "      <td>1.223400e+18</td>\n",
       "      <td>This lady is on her 5th Corona</td>\n",
       "      <td>&lt;a href=\"http://twitter.com/download/iphone\" r...</td>\n",
       "      <td>False</td>\n",
       "      <td>NaN</td>\n",
       "      <td>NaN</td>\n",
       "      <td>NaN</td>\n",
       "      <td>NaN</td>\n",
       "      <td>...</td>\n",
       "      <td>NaN</td>\n",
       "      <td>NaN</td>\n",
       "      <td>NaN</td>\n",
       "      <td>NaN</td>\n",
       "      <td>NaN</td>\n",
       "      <td>NaN</td>\n",
       "      <td>NaN</td>\n",
       "      <td>NaN</td>\n",
       "      <td>[0, 30]</td>\n",
       "      <td>NaN</td>\n",
       "    </tr>\n",
       "    <tr>\n",
       "      <th>1</th>\n",
       "      <td>Sat Feb 01 00:19:24 +0000 2020</td>\n",
       "      <td>1.223400e+18</td>\n",
       "      <td>1.223400e+18</td>\n",
       "      <td>Empress of China is closed, pls don’t text</td>\n",
       "      <td>&lt;a href=\"http://twitter.com/download/iphone\" r...</td>\n",
       "      <td>False</td>\n",
       "      <td>NaN</td>\n",
       "      <td>NaN</td>\n",
       "      <td>NaN</td>\n",
       "      <td>NaN</td>\n",
       "      <td>...</td>\n",
       "      <td>NaN</td>\n",
       "      <td>NaN</td>\n",
       "      <td>NaN</td>\n",
       "      <td>NaN</td>\n",
       "      <td>NaN</td>\n",
       "      <td>NaN</td>\n",
       "      <td>NaN</td>\n",
       "      <td>NaN</td>\n",
       "      <td>[0, 42]</td>\n",
       "      <td>NaN</td>\n",
       "    </tr>\n",
       "  </tbody>\n",
       "</table>\n",
       "<p>2 rows × 40 columns</p>\n",
       "</div>"
      ],
      "text/plain": [
       "                       created_at            id        id_str  \\\n",
       "0  Sat Feb 01 00:15:16 +0000 2020  1.223400e+18  1.223400e+18   \n",
       "1  Sat Feb 01 00:19:24 +0000 2020  1.223400e+18  1.223400e+18   \n",
       "\n",
       "                                    full_text  \\\n",
       "0              This lady is on her 5th Corona   \n",
       "1  Empress of China is closed, pls don’t text   \n",
       "\n",
       "                                              source  truncated  \\\n",
       "0  <a href=\"http://twitter.com/download/iphone\" r...      False   \n",
       "1  <a href=\"http://twitter.com/download/iphone\" r...      False   \n",
       "\n",
       "   in_reply_to_status_id  in_reply_to_status_id_str  in_reply_to_user_id  \\\n",
       "0                    NaN                        NaN                  NaN   \n",
       "1                    NaN                        NaN                  NaN   \n",
       "\n",
       "   in_reply_to_user_id_str  ... matching_rules current_user_retweet scopes  \\\n",
       "0                      NaN  ...            NaN                  NaN    NaN   \n",
       "1                      NaN  ...            NaN                  NaN    NaN   \n",
       "\n",
       "  withheld_copyright  withheld_in_countries  withheld_scope  geo contributors  \\\n",
       "0                NaN                    NaN             NaN  NaN          NaN   \n",
       "1                NaN                    NaN             NaN  NaN          NaN   \n",
       "\n",
       "   display_text_range  quoted_status_permalink  \n",
       "0             [0, 30]                      NaN  \n",
       "1             [0, 42]                      NaN  \n",
       "\n",
       "[2 rows x 40 columns]"
      ]
     },
     "execution_count": 6,
     "metadata": {},
     "output_type": "execute_result"
    }
   ],
   "source": [
    "feb20_dataset.head(2)"
   ]
  },
  {
   "cell_type": "code",
   "execution_count": 7,
   "id": "5fa269ab",
   "metadata": {
    "scrolled": true
   },
   "outputs": [
    {
     "data": {
      "text/html": [
       "<div>\n",
       "<style scoped>\n",
       "    .dataframe tbody tr th:only-of-type {\n",
       "        vertical-align: middle;\n",
       "    }\n",
       "\n",
       "    .dataframe tbody tr th {\n",
       "        vertical-align: top;\n",
       "    }\n",
       "\n",
       "    .dataframe thead th {\n",
       "        text-align: right;\n",
       "    }\n",
       "</style>\n",
       "<table border=\"1\" class=\"dataframe\">\n",
       "  <thead>\n",
       "    <tr style=\"text-align: right;\">\n",
       "      <th></th>\n",
       "      <th>created_at</th>\n",
       "      <th>id</th>\n",
       "      <th>id_str</th>\n",
       "      <th>full_text</th>\n",
       "      <th>source</th>\n",
       "      <th>truncated</th>\n",
       "      <th>in_reply_to_status_id</th>\n",
       "      <th>in_reply_to_status_id_str</th>\n",
       "      <th>in_reply_to_user_id</th>\n",
       "      <th>in_reply_to_user_id_str</th>\n",
       "      <th>...</th>\n",
       "      <th>matching_rules</th>\n",
       "      <th>current_user_retweet</th>\n",
       "      <th>scopes</th>\n",
       "      <th>withheld_copyright</th>\n",
       "      <th>withheld_in_countries</th>\n",
       "      <th>withheld_scope</th>\n",
       "      <th>geo</th>\n",
       "      <th>contributors</th>\n",
       "      <th>display_text_range</th>\n",
       "      <th>quoted_status_permalink</th>\n",
       "    </tr>\n",
       "  </thead>\n",
       "  <tbody>\n",
       "    <tr>\n",
       "      <th>0</th>\n",
       "      <td>Wed Jul 01 01:11:02 +0000 2020</td>\n",
       "      <td>1.280000e+18</td>\n",
       "      <td>1.280000e+18</td>\n",
       "      <td>@atrupar Evil @realDonaldTrump: \"I watched Ame...</td>\n",
       "      <td>&lt;a href=\"https://mobile.twitter.com\" rel=\"nofo...</td>\n",
       "      <td>False</td>\n",
       "      <td>1.280000e+18</td>\n",
       "      <td>1.280000e+18</td>\n",
       "      <td>288277167.0</td>\n",
       "      <td>288277167.0</td>\n",
       "      <td>...</td>\n",
       "      <td>NaN</td>\n",
       "      <td>NaN</td>\n",
       "      <td>NaN</td>\n",
       "      <td>NaN</td>\n",
       "      <td>NaN</td>\n",
       "      <td>NaN</td>\n",
       "      <td>NaN</td>\n",
       "      <td>NaN</td>\n",
       "      <td>[9, 286]</td>\n",
       "      <td>NaN</td>\n",
       "    </tr>\n",
       "    <tr>\n",
       "      <th>1</th>\n",
       "      <td>Wed Jul 01 03:58:30 +0000 2020</td>\n",
       "      <td>1.280000e+18</td>\n",
       "      <td>1.280000e+18</td>\n",
       "      <td>For the win... https://t.co/xsmAYHOxHt</td>\n",
       "      <td>&lt;a href=\"http://twitter.com/download/android\" ...</td>\n",
       "      <td>False</td>\n",
       "      <td>NaN</td>\n",
       "      <td>NaN</td>\n",
       "      <td>NaN</td>\n",
       "      <td>NaN</td>\n",
       "      <td>...</td>\n",
       "      <td>NaN</td>\n",
       "      <td>NaN</td>\n",
       "      <td>NaN</td>\n",
       "      <td>NaN</td>\n",
       "      <td>NaN</td>\n",
       "      <td>NaN</td>\n",
       "      <td>NaN</td>\n",
       "      <td>NaN</td>\n",
       "      <td>[0, 14]</td>\n",
       "      <td>{'url': 'https://t.co/xsmAYHOxHt', 'expanded':...</td>\n",
       "    </tr>\n",
       "  </tbody>\n",
       "</table>\n",
       "<p>2 rows × 40 columns</p>\n",
       "</div>"
      ],
      "text/plain": [
       "                       created_at            id        id_str  \\\n",
       "0  Wed Jul 01 01:11:02 +0000 2020  1.280000e+18  1.280000e+18   \n",
       "1  Wed Jul 01 03:58:30 +0000 2020  1.280000e+18  1.280000e+18   \n",
       "\n",
       "                                           full_text  \\\n",
       "0  @atrupar Evil @realDonaldTrump: \"I watched Ame...   \n",
       "1             For the win... https://t.co/xsmAYHOxHt   \n",
       "\n",
       "                                              source  truncated  \\\n",
       "0  <a href=\"https://mobile.twitter.com\" rel=\"nofo...      False   \n",
       "1  <a href=\"http://twitter.com/download/android\" ...      False   \n",
       "\n",
       "   in_reply_to_status_id  in_reply_to_status_id_str  in_reply_to_user_id  \\\n",
       "0           1.280000e+18               1.280000e+18          288277167.0   \n",
       "1                    NaN                        NaN                  NaN   \n",
       "\n",
       "   in_reply_to_user_id_str  ... matching_rules current_user_retweet scopes  \\\n",
       "0              288277167.0  ...            NaN                  NaN    NaN   \n",
       "1                      NaN  ...            NaN                  NaN    NaN   \n",
       "\n",
       "  withheld_copyright  withheld_in_countries  withheld_scope  geo contributors  \\\n",
       "0                NaN                    NaN             NaN  NaN          NaN   \n",
       "1                NaN                    NaN             NaN  NaN          NaN   \n",
       "\n",
       "   display_text_range                            quoted_status_permalink  \n",
       "0            [9, 286]                                                NaN  \n",
       "1             [0, 14]  {'url': 'https://t.co/xsmAYHOxHt', 'expanded':...  \n",
       "\n",
       "[2 rows x 40 columns]"
      ]
     },
     "execution_count": 7,
     "metadata": {},
     "output_type": "execute_result"
    }
   ],
   "source": [
    "jul20_dataset.head(2)"
   ]
  },
  {
   "cell_type": "code",
   "execution_count": 8,
   "id": "f21c5ecb",
   "metadata": {},
   "outputs": [
    {
     "data": {
      "text/html": [
       "<div>\n",
       "<style scoped>\n",
       "    .dataframe tbody tr th:only-of-type {\n",
       "        vertical-align: middle;\n",
       "    }\n",
       "\n",
       "    .dataframe tbody tr th {\n",
       "        vertical-align: top;\n",
       "    }\n",
       "\n",
       "    .dataframe thead th {\n",
       "        text-align: right;\n",
       "    }\n",
       "</style>\n",
       "<table border=\"1\" class=\"dataframe\">\n",
       "  <thead>\n",
       "    <tr style=\"text-align: right;\">\n",
       "      <th></th>\n",
       "      <th>created_at</th>\n",
       "      <th>id</th>\n",
       "      <th>id_str</th>\n",
       "      <th>full_text</th>\n",
       "      <th>source</th>\n",
       "      <th>truncated</th>\n",
       "      <th>in_reply_to_status_id</th>\n",
       "      <th>in_reply_to_status_id_str</th>\n",
       "      <th>in_reply_to_user_id</th>\n",
       "      <th>in_reply_to_user_id_str</th>\n",
       "      <th>...</th>\n",
       "      <th>matching_rules</th>\n",
       "      <th>current_user_retweet</th>\n",
       "      <th>scopes</th>\n",
       "      <th>withheld_copyright</th>\n",
       "      <th>withheld_in_countries</th>\n",
       "      <th>withheld_scope</th>\n",
       "      <th>geo</th>\n",
       "      <th>contributors</th>\n",
       "      <th>display_text_range</th>\n",
       "      <th>quoted_status_permalink</th>\n",
       "    </tr>\n",
       "  </thead>\n",
       "  <tbody>\n",
       "    <tr>\n",
       "      <th>0</th>\n",
       "      <td>Wed Sep 01 21:27:20 +0000 2021</td>\n",
       "      <td>1.433180e+18</td>\n",
       "      <td>1.433180e+18</td>\n",
       "      <td>@CrisLaderas What evidence does the province h...</td>\n",
       "      <td>&lt;a href=\"http://twitter.com/download/iphone\" r...</td>\n",
       "      <td>False</td>\n",
       "      <td>1.433170e+18</td>\n",
       "      <td>1.433170e+18</td>\n",
       "      <td>5.139697e+07</td>\n",
       "      <td>5.139697e+07</td>\n",
       "      <td>...</td>\n",
       "      <td>NaN</td>\n",
       "      <td>NaN</td>\n",
       "      <td>NaN</td>\n",
       "      <td>NaN</td>\n",
       "      <td>NaN</td>\n",
       "      <td>NaN</td>\n",
       "      <td>NaN</td>\n",
       "      <td>NaN</td>\n",
       "      <td>[13, 179]</td>\n",
       "      <td>NaN</td>\n",
       "    </tr>\n",
       "    <tr>\n",
       "      <th>1</th>\n",
       "      <td>Wed Sep 01 21:38:46 +0000 2021</td>\n",
       "      <td>1.433180e+18</td>\n",
       "      <td>1.433180e+18</td>\n",
       "      <td>@physiocara @MrMcgill8 @j_mcelroy Since everyo...</td>\n",
       "      <td>&lt;a href=\"https://mobile.twitter.com\" rel=\"nofo...</td>\n",
       "      <td>False</td>\n",
       "      <td>1.432810e+18</td>\n",
       "      <td>1.432810e+18</td>\n",
       "      <td>3.168082e+09</td>\n",
       "      <td>3.168082e+09</td>\n",
       "      <td>...</td>\n",
       "      <td>NaN</td>\n",
       "      <td>NaN</td>\n",
       "      <td>NaN</td>\n",
       "      <td>NaN</td>\n",
       "      <td>NaN</td>\n",
       "      <td>NaN</td>\n",
       "      <td>NaN</td>\n",
       "      <td>NaN</td>\n",
       "      <td>[34, 258]</td>\n",
       "      <td>NaN</td>\n",
       "    </tr>\n",
       "  </tbody>\n",
       "</table>\n",
       "<p>2 rows × 40 columns</p>\n",
       "</div>"
      ],
      "text/plain": [
       "                       created_at            id        id_str  \\\n",
       "0  Wed Sep 01 21:27:20 +0000 2021  1.433180e+18  1.433180e+18   \n",
       "1  Wed Sep 01 21:38:46 +0000 2021  1.433180e+18  1.433180e+18   \n",
       "\n",
       "                                           full_text  \\\n",
       "0  @CrisLaderas What evidence does the province h...   \n",
       "1  @physiocara @MrMcgill8 @j_mcelroy Since everyo...   \n",
       "\n",
       "                                              source  truncated  \\\n",
       "0  <a href=\"http://twitter.com/download/iphone\" r...      False   \n",
       "1  <a href=\"https://mobile.twitter.com\" rel=\"nofo...      False   \n",
       "\n",
       "   in_reply_to_status_id  in_reply_to_status_id_str  in_reply_to_user_id  \\\n",
       "0           1.433170e+18               1.433170e+18         5.139697e+07   \n",
       "1           1.432810e+18               1.432810e+18         3.168082e+09   \n",
       "\n",
       "   in_reply_to_user_id_str  ... matching_rules current_user_retweet scopes  \\\n",
       "0             5.139697e+07  ...            NaN                  NaN    NaN   \n",
       "1             3.168082e+09  ...            NaN                  NaN    NaN   \n",
       "\n",
       "  withheld_copyright  withheld_in_countries  withheld_scope  geo contributors  \\\n",
       "0                NaN                    NaN             NaN  NaN          NaN   \n",
       "1                NaN                    NaN             NaN  NaN          NaN   \n",
       "\n",
       "   display_text_range  quoted_status_permalink  \n",
       "0           [13, 179]                      NaN  \n",
       "1           [34, 258]                      NaN  \n",
       "\n",
       "[2 rows x 40 columns]"
      ]
     },
     "execution_count": 8,
     "metadata": {},
     "output_type": "execute_result"
    }
   ],
   "source": [
    "sep21_dataset.head(2)"
   ]
  },
  {
   "cell_type": "code",
   "execution_count": 9,
   "id": "palestinian-vietnam",
   "metadata": {},
   "outputs": [],
   "source": [
    "feb20_tweets = feb20_dataset[\"full_text\"]\n",
    "jul20_tweets = jul20_dataset[\"full_text\"]\n",
    "sep21_tweets = sep21_dataset[\"full_text\"]"
   ]
  },
  {
   "cell_type": "code",
   "execution_count": 11,
   "id": "3aa2c685",
   "metadata": {
    "scrolled": true
   },
   "outputs": [
    {
     "name": "stdout",
     "output_type": "stream",
     "text": [
      "In the race for the White House, the China question goes unanswered\n",
      "https://t.co/kN9uFSXAUB https://t.co/aodHTUVKz8\n",
      "\n",
      "@marky_b_tweets Always. I really want us to succeed, but I also recognize the terrifying reality of this virus.\n",
      "It's very very good at spreading in human hosts. I love it for that while also wanting it to go away.\n",
      "\n",
      "Oakland County public health officials are aiming to vaccinate school-age children and college students ahead of schools opening up. https://t.co/33QAy3uJFY\n"
     ]
    }
   ],
   "source": [
    "print(feb20_tweets[4],jul20_tweets[4],sep21_tweets[4], sep = '\\n\\n')"
   ]
  },
  {
   "cell_type": "code",
   "execution_count": 12,
   "id": "appropriate-client",
   "metadata": {},
   "outputs": [],
   "source": [
    "temp_feb20 = feb20_tweets.str.replace('\\n',' ')\n",
    "temp_jul20 = jul20_tweets.str.replace('\\n',' ')\n",
    "temp_sep21 = sep21_tweets.str.replace('\\n',' ')\n",
    "for k in range(len(temp_feb20)):\n",
    "    temp_feb20[k] = re.sub(r\"\\S*https?:\\S*\",\"\", temp_feb20[k])\n",
    "for k in range(len(temp_jul20)):\n",
    "    temp_jul20[k] = re.sub(r\"\\S*https?:\\S*\",\"\", temp_jul20[k])\n",
    "for k in range(len(temp_sep21)):\n",
    "    temp_sep21[k] = re.sub(r\"\\S*https?:\\S*\",\"\", temp_sep21[k])"
   ]
  },
  {
   "cell_type": "code",
   "execution_count": 13,
   "id": "continuous-population",
   "metadata": {},
   "outputs": [],
   "source": [
    "cleaned_feb20_tweets = []\n",
    "cleaned_jul20_tweets = []\n",
    "cleaned_sep21_tweets = []"
   ]
  },
  {
   "cell_type": "code",
   "execution_count": 14,
   "id": "designing-street",
   "metadata": {},
   "outputs": [],
   "source": [
    "for k in temp_feb20: cleaned_feb20_tweets.append(''.join(to_lower(k)))\n",
    "for k in temp_jul20: cleaned_jul20_tweets.append(''.join(to_lower(k)))\n",
    "for k in temp_sep21: cleaned_sep21_tweets.append(''.join(to_lower(k)))"
   ]
  },
  {
   "cell_type": "code",
   "execution_count": 16,
   "id": "compressed-tennessee",
   "metadata": {},
   "outputs": [
    {
     "name": "stdout",
     "output_type": "stream",
     "text": [
      "Empress of China is closed, pls don’t text\n",
      "empress of china is closed, pls don’t text\n",
      "\n",
      "@marky_b_tweets Always. I really want us to succeed, but I also recognize the terrifying reality of this virus. It's very very good at spreading in human hosts. I love it for that while also wanting it to go away.\n",
      "@marky_b_tweets always. i really want us to succeed, but i also recognize the terrifying reality of this virus. it's very very good at spreading in human hosts. i love it for that while also wanting it to go away.\n",
      "\n",
      "Oakland County public health officials are aiming to vaccinate school-age children and college students ahead of schools opening up. \n",
      "oakland county public health officials are aiming to vaccinate school-age children and college students ahead of schools opening up. \n",
      "\n"
     ]
    }
   ],
   "source": [
    "print(temp_feb20[1], cleaned_feb20_tweets[1], sep = '\\n', end = '\\n\\n') \n",
    "print(temp_jul20[4], cleaned_jul20_tweets[4], sep = '\\n', end = '\\n\\n') \n",
    "print(temp_sep21[4], cleaned_sep21_tweets[4], sep = '\\n', end = '\\n\\n') "
   ]
  },
  {
   "cell_type": "code",
   "execution_count": 17,
   "id": "binding-coverage",
   "metadata": {},
   "outputs": [],
   "source": [
    "feb20_vectors = [nltk.word_tokenize(cleaned_feb20_tweets) for cleaned_feb20_tweets in cleaned_feb20_tweets]\n",
    "jul20_vectors = [nltk.word_tokenize(cleaned_jul20_tweets) for cleaned_jul20_tweets in cleaned_jul20_tweets]\n",
    "sep21_vectors = [nltk.word_tokenize(cleaned_sep21_tweets) for cleaned_sep21_tweets in cleaned_sep21_tweets]"
   ]
  },
  {
   "cell_type": "code",
   "execution_count": 18,
   "id": "cosmetic-desire",
   "metadata": {},
   "outputs": [],
   "source": [
    "feb20_model = Word2Vec(feb20_vectors)\n",
    "jul20_model = Word2Vec(jul20_vectors)\n",
    "sep21_model = Word2Vec(sep21_vectors)"
   ]
  },
  {
   "cell_type": "code",
   "execution_count": 32,
   "id": "bigger-bennett",
   "metadata": {},
   "outputs": [
    {
     "data": {
      "text/plain": [
       "[('carona', 0.5483368635177612),\n",
       " ('deadly', 0.4830470085144043),\n",
       " ('ncov', 0.4709779918193817),\n",
       " ('corana', 0.46261659264564514),\n",
       " ('coronavirus', 0.45818108320236206),\n",
       " ('bacteria', 0.436644047498703),\n",
       " ('bleach', 0.4309340715408325),\n",
       " ('corono', 0.4233631491661072),\n",
       " ('plagued', 0.4198324978351593),\n",
       " ('🦠', 0.41473135352134705),\n",
       " ('spreading', 0.41175413131713867),\n",
       " ('karona', 0.40684470534324646),\n",
       " ('crona', 0.4053245186805725),\n",
       " ('itself', 0.39973771572113037),\n",
       " ('stomach', 0.3957355320453644),\n",
       " ('shedding', 0.3948439359664917),\n",
       " ('unknown', 0.3941563367843628),\n",
       " ('coronas', 0.3892984986305237),\n",
       " ('korona', 0.38918015360832214),\n",
       " ('cold', 0.3891006410121918)]"
      ]
     },
     "execution_count": 32,
     "metadata": {},
     "output_type": "execute_result"
    }
   ],
   "source": [
    "feb20_model.wv.most_similar(\"corona\", topn=20)"
   ]
  },
  {
   "cell_type": "code",
   "execution_count": 33,
   "id": "77039073",
   "metadata": {
    "scrolled": true
   },
   "outputs": [
    {
     "data": {
      "text/plain": [
       "[('covid', 0.6260733604431152),\n",
       " ('covid-19', 0.5102304220199585),\n",
       " ('rona', 0.4800625145435333),\n",
       " ('wuhan', 0.4728194773197174),\n",
       " ('china', 0.4653492569923401),\n",
       " ('covid19', 0.44503939151763916),\n",
       " ('..', 0.4445585310459137),\n",
       " ('cancer', 0.4335877597332001),\n",
       " ('🦠', 0.4292427897453308),\n",
       " ('chinese', 0.41630804538726807),\n",
       " ('flu', 0.40979623794555664),\n",
       " ('ccp', 0.3966471552848816),\n",
       " ('humans', 0.3937920928001404),\n",
       " ('covid-', 0.38671696186065674),\n",
       " ('heat', 0.3854938745498657),\n",
       " ('pigs', 0.3768843412399292),\n",
       " ('bacteria', 0.37649625539779663),\n",
       " ('pneumonia', 0.375264972448349),\n",
       " ('this', 0.36885419487953186),\n",
       " ('the', 0.3681204319000244)]"
      ]
     },
     "execution_count": 33,
     "metadata": {},
     "output_type": "execute_result"
    }
   ],
   "source": [
    "jul20_model.wv.most_similar('corona', topn=20)# cdc, "
   ]
  },
  {
   "cell_type": "code",
   "execution_count": 34,
   "id": "77c1871b",
   "metadata": {},
   "outputs": [
    {
     "data": {
      "text/plain": [
       "[('covid-19', 0.7328019738197327),\n",
       " ('virus', 0.6041736602783203),\n",
       " ('cancer', 0.5669732689857483),\n",
       " ('flu', 0.5638599991798401),\n",
       " ('jab', 0.5367597341537476),\n",
       " ('disease', 0.5228464603424072),\n",
       " ('term', 0.4962363839149475),\n",
       " ('symptoms', 0.4938730001449585),\n",
       " ('antibodies', 0.4809015691280365),\n",
       " ('taken', 0.4798889458179474),\n",
       " ('low', 0.47623658180236816),\n",
       " ('hospital', 0.47212570905685425),\n",
       " ('richer', 0.47064316272735596),\n",
       " ('number', 0.4683408737182617),\n",
       " ('illness', 0.4670003056526184),\n",
       " ('poke', 0.46253252029418945),\n",
       " ('ivermectin', 0.45924487709999084),\n",
       " ('being', 0.45250195264816284),\n",
       " ('intubated', 0.45083945989608765),\n",
       " ('chance', 0.4503765404224396)]"
      ]
     },
     "execution_count": 34,
     "metadata": {},
     "output_type": "execute_result"
    }
   ],
   "source": [
    "sep21_model.wv.most_similar('covid', topn=20)# cdc, "
   ]
  },
  {
   "cell_type": "code",
   "execution_count": null,
   "id": "accomplished-physics",
   "metadata": {},
   "outputs": [],
   "source": [
    "distance.cosine(feb_model.wv['corona'] , feb_model.wv['disease'])"
   ]
  },
  {
   "cell_type": "code",
   "execution_count": null,
   "id": "940608db",
   "metadata": {},
   "outputs": [],
   "source": [
    "distance.cosine(feb_model.wv['corona'] , july_model.wv['corona'])"
   ]
  }
 ],
 "metadata": {
  "kernelspec": {
   "display_name": "Python 3 (ipykernel)",
   "language": "python",
   "name": "python3"
  },
  "language_info": {
   "codemirror_mode": {
    "name": "ipython",
    "version": 3
   },
   "file_extension": ".py",
   "mimetype": "text/x-python",
   "name": "python",
   "nbconvert_exporter": "python",
   "pygments_lexer": "ipython3",
   "version": "3.7.12"
  }
 },
 "nbformat": 4,
 "nbformat_minor": 5
}
